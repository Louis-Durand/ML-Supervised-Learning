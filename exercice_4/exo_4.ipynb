{
  "nbformat": 4,
  "nbformat_minor": 0,
  "metadata": {
    "colab": {
      "provenance": []
    },
    "kernelspec": {
      "name": "python3",
      "display_name": "Python 3"
    },
    "language_info": {
      "name": "python"
    }
  },
  "cells": [
    {
      "cell_type": "markdown",
      "source": [
        "**PART 4: Prediction of the amount of electricity produced (Regression)**"
      ],
      "metadata": {
        "id": "q-dg_A8BWUW4"
      }
    },
    {
      "cell_type": "markdown",
      "source": [
        "*We would like to predict the amount of electricity produced by a windfarm, as a function of the information gathered in a number of physical sensors (e.g. speed of the wind, temperature, ...)*"
      ],
      "metadata": {
        "id": "lHyiTwLiXV_C"
      }
    },
    {
      "cell_type": "code",
      "execution_count": 181,
      "metadata": {
        "id": "Ayfcun8rCyg-"
      },
      "outputs": [],
      "source": [
        "# All imports for the notebook\n",
        "import numpy as np\n",
        "import matplotlib.pyplot as plt\n",
        "import pandas as pd\n",
        "\n",
        "from sklearn.linear_model import LinearRegression\n",
        "\n",
        "from sklearn.model_selection import KFold, ShuffleSplit\n",
        "from sklearn.model_selection import cross_val_score\n",
        "from sklearn.model_selection import train_test_split\n",
        "\n",
        "from sklearn.metrics import mean_squared_error, r2_score\n",
        "from statistics import mean"
      ]
    },
    {
      "cell_type": "code",
      "source": [
        "# Here we assume you have the files in the same folder as the notebook and import them\n",
        "inputs = np.load(\"inputs.npy\")\n",
        "labels = np.load(\"labels.npy\")\n",
        "labels = labels[:, 0]"
      ],
      "metadata": {
        "id": "GhRcMCVbGSx6"
      },
      "execution_count": 41,
      "outputs": []
    },
    {
      "cell_type": "markdown",
      "source": [
        "**Using Linear Regression**"
      ],
      "metadata": {
        "id": "dNdr8CmqGkBV"
      }
    },
    {
      "cell_type": "markdown",
      "source": [
        "\n",
        "\n",
        "The model we will use is Linear Regression, <br>Linear Regression fits this problem because we are trying to determine the electricity produced in function of other parameters (here speed or temperature for example).<br> So we have a **dependant variable: electricity** and **independant variables: speed/temperature**<br><br>Also it is important to note we can't use logistic regression here, although it has regression in the name, it is used to solve classification problems.\n",
        "\n"
      ],
      "metadata": {
        "id": "PI36BXsXW8hQ"
      }
    },
    {
      "cell_type": "code",
      "source": [
        "# We are going to use 10 iterations to have an average of R2\n",
        "val = []\n",
        "for x in range(10):\n",
        "\n",
        "  # Creating Training and test split with test size of 20%\n",
        "  X_train, X_test, y_train, y_test = train_test_split(\n",
        "      inputs,\n",
        "      labels,\n",
        "      test_size= 0.20)\n",
        "\n",
        "  # Create Linear Regression Model\n",
        "  model = LinearRegression()\n",
        "\n",
        "  # Fit model\n",
        "  model.fit(X_train, y_train)\n",
        "\n",
        "  # Evaluate model\n",
        "  predictions = model.predict(X_test)\n",
        "\n",
        "  # We are adding our result to the total array to calculate at the end\n",
        "  val += [r2_score(y_test, predictions)]\n",
        "\n",
        "# Lets now print the average of our coefficients of determination also known as R2\n",
        "print(f\"Average coefficient of determination: {mean(val):.2f}\")"
      ],
      "metadata": {
        "id": "4A_sgbjlI2oM"
      },
      "execution_count": null,
      "outputs": []
    },
    {
      "cell_type": "markdown",
      "source": [
        "We obtain an R2 score of around 0.70 to 0.80. <br>\n",
        "In our tests, we have obtained an R2 score of 0.85, but this score isn't consistent. <br>\n",
        "We could improve this score by changing some parameters but by testing other models, this one is the best."
      ],
      "metadata": {
        "id": "nVccRImxdeWz"
      }
    },
    {
      "cell_type": "markdown",
      "source": [
        "**Cross validation**"
      ],
      "metadata": {
        "id": "B1Pqo2n8OuDl"
      }
    },
    {
      "cell_type": "markdown",
      "source": [
        "Now we are going to test cross validation with K-Fold. <br>K-fold splits the dataset into a K number of folds and is mainly used to evaluate the model's ability when it's given new data."
      ],
      "metadata": {
        "id": "nqwjjjEycBxL"
      }
    },
    {
      "cell_type": "code",
      "source": [
        "# Initiating the Cross Validation selections\n",
        "kfold = KFold(n_splits = 11)\n",
        "ss = ShuffleSplit(n_splits=15, test_size=0.2, random_state=None)\n",
        "\n",
        "# Recalculating the model\n",
        "model = LinearRegression()\n",
        "model.fit(X_train, y_train)"
      ],
      "metadata": {
        "colab": {
          "base_uri": "https://localhost:8080/"
        },
        "id": "uJoSpKIDLQoc",
        "outputId": "5766e2b2-9071-4d1b-be42-2eac48960182"
      },
      "execution_count": 194,
      "outputs": [
        {
          "output_type": "execute_result",
          "data": {
            "text/plain": [
              "LinearRegression()"
            ]
          },
          "metadata": {},
          "execution_count": 194
        }
      ]
    },
    {
      "cell_type": "code",
      "source": [
        "# Calculating Cross Validation scores with K-Fold\n",
        "scores = cross_val_score(model, inputs, labels, cv=kfold)\n",
        "\n",
        "# Displaying results\n",
        "print(f\"We get an accuracy of {scores.mean():.2f} with a standard deviation of {scores.std():.2f}.\")"
      ],
      "metadata": {
        "colab": {
          "base_uri": "https://localhost:8080/"
        },
        "id": "r3bd7mY9eu8s",
        "outputId": "6c41e49f-07c2-4926-b2aa-67ebf3cd330b"
      },
      "execution_count": 184,
      "outputs": [
        {
          "output_type": "stream",
          "name": "stdout",
          "text": [
            "We get an accuracy of 0.75 with a standard deviation of 0.08.\n"
          ]
        }
      ]
    },
    {
      "cell_type": "code",
      "source": [
        "# Calculating Cross Validation scores with ShuffleSplit\n",
        "scores = cross_val_score(model, inputs, labels, cv=ss)\n",
        "\n",
        "# Displaying results\n",
        "print(f\"We get an accuracy of {scores.mean():.2f} with a standard deviation of {scores.std():.2f}.\")"
      ],
      "metadata": {
        "colab": {
          "base_uri": "https://localhost:8080/"
        },
        "id": "9K4zq2LaewB_",
        "outputId": "cc518967-dc29-4886-c8dc-24054ddf65e9"
      },
      "execution_count": 197,
      "outputs": [
        {
          "output_type": "stream",
          "name": "stdout",
          "text": [
            "We get an accuracy of 0.74 with a standard deviation of 0.07.\n"
          ]
        }
      ]
    },
    {
      "cell_type": "markdown",
      "source": [
        "We obtain an 0.75 accuracy with a standard deviation of 0.08 with K-Fold cross validation. <br>\n",
        "We get around an 0.69 to 0.74 accuracy with a standard deviation of 0.06 to 0.08 with ShuffleSplit cross validation. <br>"
      ],
      "metadata": {
        "id": "XB_UMeGndcWI"
      }
    },
    {
      "cell_type": "markdown",
      "source": [
        "**Conclusion**"
      ],
      "metadata": {
        "id": "onfRH3vneA6R"
      }
    },
    {
      "cell_type": "markdown",
      "source": [
        "We can conclude that the Linear Regression predictive analysis is the most correct one to use and it's effectiveness is shown throughout these results."
      ],
      "metadata": {
        "id": "0BfEnRCAfP78"
      }
    }
  ]
}